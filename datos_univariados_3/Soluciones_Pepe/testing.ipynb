{
 "cells": [
  {
   "cell_type": "code",
   "execution_count": 1,
   "metadata": {},
   "outputs": [],
   "source": [
    "import numpy as np\n",
    "import pandas\n",
    "import matplotlib.pyplot as plt\n",
    "import os"
   ]
  },
  {
   "cell_type": "code",
   "execution_count": 118,
   "metadata": {},
   "outputs": [],
   "source": [
    "# Pregunta: 0"
   ]
  },
  {
   "cell_type": "code",
   "execution_count": 119,
   "metadata": {},
   "outputs": [
    {
     "name": "stdout",
     "output_type": "stream",
     "text": [
      "Pregunta 0: Robot B tarda menos de media.\n",
      "\n",
      "Robot A median: 9.773251428580092\n",
      "Robot B median: 5.8895457919196215\n"
     ]
    }
   ],
   "source": [
    "df_A = pandas.read_csv('data/robot_A.csv')\n",
    "df_B = pandas.read_csv('data/robot_B.csv')\n",
    "\n",
    "median_A = df_A['minutes'].median()\n",
    "median_B = df_B['minutes'].median()\n",
    "\n",
    "print(\"Pregunta 0: Robot B tarda menos de media.\")\n",
    "print(\"\")\n",
    "print(\"Robot A median: \" + str(median_A))\n",
    "print(\"Robot B median: \" + str(median_B))"
   ]
  },
  {
   "cell_type": "code",
   "execution_count": 121,
   "metadata": {},
   "outputs": [],
   "source": [
    "# Pregunta: 1"
   ]
  },
  {
   "cell_type": "code",
   "execution_count": 122,
   "metadata": {
    "scrolled": true
   },
   "outputs": [
    {
     "name": "stdout",
     "output_type": "stream",
     "text": [
      "Pregunta 1: Representación de los datos de cada robot.\n",
      "\n",
      "Robot A: Azúl\n",
      "Robot B: Naranja\n"
     ]
    },
    {
     "data": {
      "text/plain": [
       "Text(0.5, 0, 'minutes')"
      ]
     },
     "execution_count": 122,
     "metadata": {},
     "output_type": "execute_result"
    },
    {
     "data": {
      "image/png": "[encoded data removed]",
      "text/plain": [
       "<Figure size 432x288 with 1 Axes>"
      ]
     },
     "metadata": {
      "needs_background": "light"
     },
     "output_type": "display_data"
    }
   ],
   "source": [
    "df_A = pandas.read_csv('data/robot_A.csv')\n",
    "df_B = pandas.read_csv('data/robot_B.csv')\n",
    "\n",
    "print(\"Pregunta 1: Representación de los datos de cada robot.\")\n",
    "print(\"\")\n",
    "print(\"Robot A: Azúl\")\n",
    "histogram_A = plt.hist(df_A['minutes'])\n",
    "plt.xlabel('minutes')\n",
    "\n",
    "print(\"Robot B: Naranja\")\n",
    "histogram_B = plt.hist(df_B['minutes'])\n",
    "plt.xlabel('minutes')"
   ]
  },
  {
   "cell_type": "code",
   "execution_count": 123,
   "metadata": {},
   "outputs": [],
   "source": [
    "# Pregunta: 2"
   ]
  },
  {
   "cell_type": "code",
   "execution_count": 134,
   "metadata": {},
   "outputs": [
    {
     "name": "stdout",
     "output_type": "stream",
     "text": [
      "Pregunta 2 - Opcion A: El robót B tarda menos de media\n",
      "Pregunta 2 - Opcion B: El robót que tenga más revisiones por debajo de 13 min: Robot A\n",
      "\n",
      "      Revisiones totales/Revisiones < 13': Robot A -> 889/853 Robot B -> 912/812\n"
     ]
    }
   ],
   "source": [
    "df_A = pandas.read_csv('data/robot_A.csv')\n",
    "testing_A = df_A['minutes'].to_list()\n",
    "number_A = len(testing)\n",
    "result_A = []\n",
    "\n",
    "for item in testing_A:\n",
    "    if item < 13:\n",
    "        result_A.append(item)\n",
    "\n",
    "df_B = pandas.read_csv('data/robot_B.csv')\n",
    "testing_B = df_B['minutes'].to_list()\n",
    "number_B = len(testing)\n",
    "result_B = []\n",
    "\n",
    "for item in testing_B:\n",
    "    if item < 13:\n",
    "        result_B.append(item)\n",
    "\n",
    "print(\"Pregunta 2 - Opcion A: El robót B tarda menos de media\")\n",
    "print(\"Pregunta 2 - Opcion B: El robót que tenga más revisiones por debajo de 13 min: Robot A\")\n",
    "print(\"\")\n",
    "print(\"      Revisiones totales/Revisiones < 13': Robot A -> 889/{0} Robot B -> 912/{1}\".format(len(result_A), len(result_B)))"
   ]
  },
  {
   "cell_type": "code",
   "execution_count": 125,
   "metadata": {},
   "outputs": [],
   "source": [
    "# Pregunta: 3"
   ]
  },
  {
   "cell_type": "code",
   "execution_count": 126,
   "metadata": {},
   "outputs": [],
   "source": [
    "    # Pregunta: 3.1"
   ]
  },
  {
   "cell_type": "code",
   "execution_count": 127,
   "metadata": {},
   "outputs": [
    {
     "name": "stdout",
     "output_type": "stream",
     "text": [
      "Coste medio de fabricación de un trasto por humano en una jornada laboral de 8h: 1282.11€\n"
     ]
    }
   ],
   "source": [
    "# 480 min trabajados en un día / 20 mins por trasto\n",
    "trastos_dia = 480 / 20\n",
    "# trastos * fabricación + forjado + coste_inspección\n",
    "coste_total_dia = 24 * (1000 + 10  + 5)\n",
    "# trastos / tasa_error:20%\n",
    "tasa_error = 4.8\n",
    "trastos_reales = round(trastos_dia - tasa_error)\n",
    "coste_trasto_dia = coste_total_dia / trastos_reales\n",
    "print(\"Coste medio de fabricación de un trasto por humano en una jornada laboral de 8h: {:.2f}\".format(coste_trasto_dia) + \"€\")"
   ]
  },
  {
   "cell_type": "code",
   "execution_count": 128,
   "metadata": {},
   "outputs": [],
   "source": [
    "    # Pregunta: 3.2"
   ]
  },
  {
   "cell_type": "code",
   "execution_count": 133,
   "metadata": {},
   "outputs": [
    {
     "name": "stdout",
     "output_type": "stream",
     "text": [
      "Coste medio de fabricación de un trasto por el Robot A en una jornada laboral de 8h: 1025.00€\n"
     ]
    }
   ],
   "source": [
    "# nº trastos analizados en robot_A.csv\n",
    "trastos_dia = 889\n",
    "# trastos * fabricación + forjado + coste_inspección = 902.335€\n",
    "coste_total_dia = 889 * (1000 + 10 + 5)\n",
    "# trastos / tasa_error:20% = 177.8 trastos\n",
    "tasa_error = 177.8\n",
    "# trastos producidos la primera vez = 711\n",
    "trastos_reales = round(trastos_dia - tasa_error)\n",
    "\n",
    "# trastos erroneos en menos de 13 minutos: 853 trastos en menos de 13' * 0.2 = 170.6 trastos\n",
    "trastos_erroneos_menos_13 = 170.6\n",
    "# precio de revisión de error menos de 13' = 170.6 * 10 = 1706€\n",
    "precio_error_menos_13 = trastos_erroneos_menos_13 * 10\n",
    "# trastos erroneos en más de 13 minutos: 36 trastos en más de 13' * 0.2 = 7.2 trastos\n",
    "trastos_erroneos_mas_13 = 7.2\n",
    "# precio de revisión de error mas de 13' = 7.2 * 1010 = 7272€\n",
    "precio_error_mas_13 = trastos_erroneos_mas_13 * 1010\n",
    "\n",
    "# coste_total = 902.335€ + 1706€ + 7272€ = 911313€\n",
    "coste_total = coste_total_dia + (precio_error_menos_13 + precio_error_mas_13)\n",
    "\n",
    "#coste_total_trasto = 911313€ / 889 = 1025,09\n",
    "coste_total_trasto = round(coste_total / trastos_dia)\n",
    "\n",
    "\n",
    "print(\"Coste medio de fabricación de un trasto por el Robot A en una jornada laboral de 8h: {:.2f}\".format(coste_total_trasto) + \"€\")\n"
   ]
  },
  {
   "cell_type": "code",
   "execution_count": 130,
   "metadata": {},
   "outputs": [],
   "source": [
    "    # Pregunta: 3.3"
   ]
  },
  {
   "cell_type": "code",
   "execution_count": 136,
   "metadata": {},
   "outputs": [
    {
     "name": "stdout",
     "output_type": "stream",
     "text": [
      "Coste medio de fabricación de un trasto por el Robot A en una jornada laboral de 8h: 1039.00€\n"
     ]
    }
   ],
   "source": [
    "# nº trastos analizados en robot_B.csv\n",
    "trastos_dia = 912\n",
    "# trastos * fabricación + forjado + coste_inspección = 925.680€\n",
    "coste_total_dia = 912 * (1000 + 10 + 5)\n",
    "# trastos / tasa_error:20% = 182,4 trastos\n",
    "tasa_error = 182.4\n",
    "# trastos producidos la primera vez = 729\n",
    "trastos_reales = round(trastos_dia - tasa_error)\n",
    "\n",
    "# trastos erroneos en menos de 13 minutos: 812 trastos en menos de 13' * 0.2 = 162.4 trastos\n",
    "trastos_erroneos_menos_13 = 162.4\n",
    "# precio de revisión de error menos de 13' = 162.4 * 10 = 1624€\n",
    "precio_error_menos_13 = trastos_erroneos_menos_13 * 10\n",
    "# trastos erroneos en más de 13 minutos: 100 trastos en más de 13' * 0.2 = 20 trastos\n",
    "trastos_erroneos_mas_13 = 20\n",
    "# precio de revisión de error mas de 13' = 20 * 1010 = 20200€\n",
    "precio_error_mas_13 = trastos_erroneos_mas_13 * 1010\n",
    "\n",
    "# coste_total = 925.680€ + 1624€ + 20200€ = 947504€\n",
    "coste_total = coste_total_dia + (precio_error_menos_13 + precio_error_mas_13)\n",
    "\n",
    "#coste_total_trasto = 947504€ / 912 = 1038.93\n",
    "coste_total_trasto = round(coste_total / trastos_dia)\n",
    "\n",
    "\n",
    "print(\"Coste medio de fabricación de un trasto por el Robot A en una jornada laboral de 8h: {:.2f}\".format(coste_total_trasto) + \"€\")\n"
   ]
  },
  {
   "cell_type": "code",
   "execution_count": null,
   "metadata": {},
   "outputs": [],
   "source": []
  }
 ],
 "metadata": {
  "kernelspec": {
   "display_name": "Python 3",
   "language": "python",
   "name": "python3"
  },
  "language_info": {
   "codemirror_mode": {
    "name": "ipython",
    "version": 3
   },
   "file_extension": ".py",
   "mimetype": "text/x-python",
   "name": "python",
   "nbconvert_exporter": "python",
   "pygments_lexer": "ipython3",
   "version": "3.8.6"
  }
 },
 "nbformat": 4,
 "nbformat_minor": 4
}
